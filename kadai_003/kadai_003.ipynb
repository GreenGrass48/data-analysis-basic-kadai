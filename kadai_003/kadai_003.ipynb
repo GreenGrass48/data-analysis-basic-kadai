{
  "nbformat": 4,
  "nbformat_minor": 0,
  "metadata": {
    "colab": {
      "provenance": []
    },
    "kernelspec": {
      "name": "python3",
      "display_name": "Python 3"
    },
    "language_info": {
      "name": "python"
    }
  },
  "cells": [
    {
      "cell_type": "code",
      "execution_count": 1,
      "metadata": {
        "colab": {
          "base_uri": "https://localhost:8080/"
        },
        "id": "MZyEFZ_eceei",
        "outputId": "10bfb6d4-05ed-44e3-b35f-2bbe9fc24838"
      },
      "outputs": [
        {
          "output_type": "stream",
          "name": "stdout",
          "text": [
            "[[ 4  5  6  7]\n",
            " [12 17 22 27]\n",
            " [20 29 38 47]]\n",
            "47\n"
          ]
        }
      ],
      "source": [
        "import numpy as np\n",
        "\n",
        "A = np.arange(6).reshape(3,2)\n",
        "B = np.arange(8).reshape(2,4)\n",
        "C = np.dot(A,B)\n",
        "# print(A,'\\n\\n',B,'\\n\\n',C)\n",
        "\n",
        "print(C)\n",
        "print(C.max())"
      ]
    }
  ]
}